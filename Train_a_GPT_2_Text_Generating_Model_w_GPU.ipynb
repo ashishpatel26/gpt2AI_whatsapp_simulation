{
  "nbformat": 4,
  "nbformat_minor": 0,
  "metadata": {
    "colab": {
      "name": "Train a GPT-2 Text-Generating Model w/ GPU",
      "provenance": [],
      "collapsed_sections": [],
      "include_colab_link": true
    },
    "kernelspec": {
      "name": "python3",
      "display_name": "Python 3"
    },
    "accelerator": "GPU"
  },
  "cells": [
    {
      "cell_type": "markdown",
      "metadata": {
        "id": "view-in-github",
        "colab_type": "text"
      },
      "source": [
        "<a href=\"https://colab.research.google.com/github/swahareddy/gpt2AI_whatsapp_simulation/blob/master/Train_a_GPT_2_Text_Generating_Model_w_GPU.ipynb\" target=\"_parent\"><img src=\"https://colab.research.google.com/assets/colab-badge.svg\" alt=\"Open In Colab\"/></a>"
      ]
    },
    {
      "cell_type": "markdown",
      "metadata": {
        "id": "H7LoMj4GA4n_",
        "colab_type": "text"
      },
      "source": [
        "# Whatsapp Chat simulation by OpenAI's GPT-2. \n",
        "Made easily accesible by https://github.com/minimaxir/gpt-2-simple "
      ]
    },
    {
      "cell_type": "code",
      "metadata": {
        "id": "KBkpRgBCBS2_",
        "colab_type": "code",
        "colab": {
          "base_uri": "https://localhost:8080/",
          "height": 170
        },
        "outputId": "d373e831-a14c-4eba-9e8f-3b08d780a6c4"
      },
      "source": [
        "%tensorflow_version 1.x\n",
        "!pip install -q gpt-2-simple\n",
        "import gpt_2_simple as gpt2\n",
        "from datetime import datetime\n",
        "from google.colab import files"
      ],
      "execution_count": 3,
      "outputs": [
        {
          "output_type": "stream",
          "text": [
            "TensorFlow 1.x selected.\n",
            "WARNING:tensorflow:\n",
            "The TensorFlow contrib module will not be included in TensorFlow 2.0.\n",
            "For more information, please see:\n",
            "  * https://github.com/tensorflow/community/blob/master/rfcs/20180907-contrib-sunset.md\n",
            "  * https://github.com/tensorflow/addons\n",
            "  * https://github.com/tensorflow/io (for I/O related ops)\n",
            "If you depend on functionality not listed there, please file an issue.\n",
            "\n"
          ],
          "name": "stdout"
        }
      ]
    },
    {
      "cell_type": "markdown",
      "metadata": {
        "id": "a-PFPY7ciVvn",
        "colab_type": "text"
      },
      "source": [
        "Link your Google drive storage and add the file you exported (`WhatsApp Chat with Rajesh Kumar.txt`) from Whatsapp in it (as described in the [Readme.md](https://github.com/swahareddy/gpt2AI_whatsapp_simulation/blob/master/README.md))\n",
        "\n",
        "Then change the add the name of the person who's chat you want to use"
      ]
    },
    {
      "cell_type": "code",
      "metadata": {
        "id": "vgBwzoNJ-vDl",
        "colab_type": "code",
        "colab": {}
      },
      "source": [
        "chat_name=\"Rajesh Kumar\"\n",
        "chat_name_formatted=chat_name.lower().replace(\" \",\"_\")"
      ],
      "execution_count": 6,
      "outputs": []
    },
    {
      "cell_type": "markdown",
      "metadata": {
        "id": "HE36ujp10m0m",
        "colab_type": "text"
      },
      "source": [
        "### Format Whatsapp Chat\n",
        "Convert messages like `13/03/20, 11:34 - Tejas: What's the problem` into `Tejas: What's the problem`\n",
        "\n"
      ]
    },
    {
      "cell_type": "code",
      "metadata": {
        "id": "sugWJ2Jt1cuD",
        "colab_type": "code",
        "colab": {}
      },
      "source": [
        "file=open(\"/content/drive/My Drive/Colab Notebooks/GPT2_WA/Original chats/WhatsApp Chat with \"+chat_name+\".txt\",'r', encoding=\"utf8\")\n",
        "chat_txt=file.read()\n",
        "print(chat_txt)\n",
        "file.close()\n",
        "\n",
        "import re\n",
        "\n",
        "lines_match=[]\n",
        "timestamp_regex=\"[0-9][0-9]/[0-9][0-9]/[0-9][0-9], [0-9][0-9]:[0-9][0-9] - \"\n",
        "[lines_match.append([m.start(0), m.end(0)]) for m in re.finditer(timestamp_regex, chat_txt)]\n",
        "# print(lines_match)\n",
        "\n",
        "from operator import itemgetter\n",
        "lines_match_sorted=sorted(lines_match, key=itemgetter(0))\n",
        "\n",
        "chat_wo_ts=\"\"\n",
        "\n",
        "index_c=0\n",
        "for name_match in lines_match_sorted:\n",
        "    if index_c+1<len(lines_match_sorted):\n",
        "        chat_wo_ts=chat_wo_ts+chat_txt[name_match[1]:lines_match_sorted[index_c+1][0]]\n",
        "        index_c=index_c+1\n",
        "    else:\n",
        "        #print(chat_txt[name_match[1]:])\n",
        "        chat_wo_ts=chat_wo_ts+chat_txt[name_match[1]:]\n",
        "        \n",
        "print(chat_wo_ts)\n",
        "f = open(\"/content/drive/My Drive/Colab Notebooks/GPT2_WA/Formatted chats/formatted_\"+chat_name_formatted+\".txt\", \"a\",  encoding=\"utf8\")\n",
        "f.write(chat_wo_ts)\n",
        "f.close()"
      ],
      "execution_count": null,
      "outputs": []
    },
    {
      "cell_type": "markdown",
      "metadata": {
        "id": "0wXB05bPDYxS",
        "colab_type": "text"
      },
      "source": [
        "## Downloading GPT-2\n",
        "\n",
        "If you're retraining a model on new text, you need to download the GPT-2 model first. \n",
        "\n",
        "There are three released sizes of GPT-2:\n",
        "\n",
        "* `124M` (default): the \"small\" model, 500MB on disk.\n",
        "* `355M`: the \"medium\" model, 1.5GB on disk.\n",
        "* `774M`: the \"large\" model, cannot currently be finetuned with Colaboratory but can be used to generate text from the pretrained model (see later in Notebook)\n",
        "* `1558M`: the \"extra large\", true model. Will not work if a K80 GPU is attached to the notebook. (like `774M`, it cannot be finetuned).\n",
        "\n",
        "Larger models have more knowledge, but take longer to finetune and longer to generate text. You can specify which base model to use by changing `model_name` in the cells below.\n",
        "\n",
        "The next cell downloads it from Google Cloud Storage and saves it in the Colaboratory VM at `/models/<model_name>`.\n",
        "\n",
        "This model isn't permanently saved in the Colaboratory VM; you'll have to redownload it if you want to retrain it at a later time."
      ]
    },
    {
      "cell_type": "code",
      "metadata": {
        "id": "P8wSlgXoDPCR",
        "colab_type": "code",
        "colab": {
          "base_uri": "https://localhost:8080/",
          "height": 136
        },
        "outputId": "5db65490-d326-4080-c214-ed61732c4540"
      },
      "source": [
        "gpt2.download_gpt2(model_name=\"774M\")"
      ],
      "execution_count": 41,
      "outputs": [
        {
          "output_type": "stream",
          "text": [
            "Fetching checkpoint: 1.05Mit [00:00, 441Mit/s]                                                      \n",
            "Fetching encoder.json: 1.05Mit [00:00, 47.8Mit/s]                                                   \n",
            "Fetching hparams.json: 1.05Mit [00:00, 780Mit/s]                                                    \n",
            "Fetching model.ckpt.data-00000-of-00001: 3.10Git [00:49, 62.4Mit/s]                                 \n",
            "Fetching model.ckpt.index: 1.05Mit [00:00, 378Mit/s]                                                \n",
            "Fetching model.ckpt.meta: 2.10Mit [00:00, 157Mit/s]                                                 \n",
            "Fetching vocab.bpe: 1.05Mit [00:00, 151Mit/s]                                                       \n"
          ],
          "name": "stderr"
        }
      ]
    },
    {
      "cell_type": "markdown",
      "metadata": {
        "id": "N8KXuKWzQSsN",
        "colab_type": "text"
      },
      "source": [
        "## Mounting Google Drive\n",
        "\n",
        "The best way to get input text to-be-trained into the Colaboratory VM, and to get the trained model *out* of Colaboratory, is to route it through Google Drive *first*.\n",
        "\n",
        "Running this cell (which will only work in Colaboratory) will mount your personal Google Drive in the VM, which later cells can use to get data in/out. (it will ask for an auth code; that auth is not saved anywhere)"
      ]
    },
    {
      "cell_type": "code",
      "metadata": {
        "id": "puq4iC6vUAHc",
        "colab_type": "code",
        "colab": {
          "base_uri": "https://localhost:8080/",
          "height": 34
        },
        "outputId": "6c584726-6aa3-4bc8-a290-04947d213392"
      },
      "source": [
        "gpt2.mount_gdrive()"
      ],
      "execution_count": 42,
      "outputs": [
        {
          "output_type": "stream",
          "text": [
            "Drive already mounted at /content/drive; to attempt to forcibly remount, call drive.mount(\"/content/drive\", force_remount=True).\n"
          ],
          "name": "stdout"
        }
      ]
    },
    {
      "cell_type": "markdown",
      "metadata": {
        "id": "BT__brhBCvJu",
        "colab_type": "text"
      },
      "source": [
        "## Uploading a Text File to be Trained to Colaboratory\n",
        "\n",
        "In the Colaboratory Notebook sidebar on the left of the screen, select *Files*. From there you can upload files:\n",
        "\n",
        "Upload **any smaller text file**  (<10 MB) and update the file name in the cell below, then run the cell."
      ]
    },
    {
      "cell_type": "code",
      "metadata": {
        "id": "6OFnPCLADfll",
        "colab_type": "code",
        "colab": {}
      },
      "source": [
        "file_name = \"formatted_\"+chat_name_formatted+\".txt\""
      ],
      "execution_count": 43,
      "outputs": []
    },
    {
      "cell_type": "markdown",
      "metadata": {
        "id": "HeeSKtNWUedE",
        "colab_type": "text"
      },
      "source": [
        "If your text file is larger than 10MB, it is recommended to upload that file to Google Drive first, then copy that file from Google Drive to the Colaboratory VM."
      ]
    },
    {
      "cell_type": "code",
      "metadata": {
        "id": "-Z6okFD8VKtS",
        "colab_type": "code",
        "colab": {}
      },
      "source": [
        "drive_file_path=\"Colab Notebooks/GPT2_WA/Formatted chats/\"+file_name\n",
        "import os\n",
        "home_path=\"/content\"\n",
        "os.chdir(home_path)\n",
        "import shutil\n",
        "shutil.copyfile(\"/content/drive/My Drive/\" + drive_file_path, home_path+\"/\"+file_name)"
      ],
      "execution_count": null,
      "outputs": []
    },
    {
      "cell_type": "markdown",
      "metadata": {
        "id": "LdpZQXknFNY3",
        "colab_type": "text"
      },
      "source": [
        "## Finetune GPT-2\n",
        "\n",
        "The next cell will start the actual finetuning of GPT-2. It creates a persistent TensorFlow session which stores the training config, then runs the training for the specified number of `steps`. (to have the finetuning run indefinitely, set `steps = -1`)\n",
        "\n",
        "The model checkpoints will be saved in `/checkpoint/run1` by default. The checkpoints are saved every 500 steps (can be changed) and when the cell is stopped.\n",
        "\n",
        "The training might time out after 4ish hours; make sure you end training and save the results so you don't lose them!\n",
        "\n",
        "**IMPORTANT NOTE:** If you want to rerun this cell, **restart the VM first** (Runtime -> Restart Runtime). You will need to rerun imports but not recopy files.\n",
        "\n",
        "Other optional-but-helpful parameters for `gpt2.finetune`:\n",
        "\n",
        "\n",
        "*  **`restore_from`**: Set to `fresh` to start training from the base GPT-2, or set to `latest` to restart training from an existing checkpoint.\n",
        "* **`sample_every`**: Number of steps to print example output\n",
        "* **`print_every`**: Number of steps to print training progress.\n",
        "* **`learning_rate`**:  Learning rate for the training. (default `1e-4`, can lower to `1e-5` if you have <1MB input data)\n",
        "*  **`run_name`**: subfolder within `checkpoint` to save the model. This is useful if you want to work with multiple models (will also need to specify  `run_name` when loading the model)\n",
        "* **`overwrite`**: Set to `True` if you want to continue finetuning an existing model (w/ `restore_from='latest'`) without creating duplicate copies. "
      ]
    },
    {
      "cell_type": "code",
      "metadata": {
        "id": "xL6J6GjSGQ2i",
        "colab_type": "code",
        "colab": {}
      },
      "source": [
        "run_name_var=\"run_\"+chat_name_formatted\n",
        "print(run_name_var)"
      ],
      "execution_count": null,
      "outputs": []
    },
    {
      "cell_type": "code",
      "metadata": {
        "id": "aeXshJM-Cuaf",
        "colab_type": "code",
        "colab": {}
      },
      "source": [
        "sess = gpt2.start_tf_sess()\n",
        "# import tensorflow\n",
        "# tensorflow.reset_default_graph()\n",
        "gpt2.finetune(sess,\n",
        "              dataset=file_name,\n",
        "              model_name='774M',\n",
        "              steps=750,\n",
        "              restore_from='fresh',\n",
        "              run_name=run_name_var,\n",
        "              print_every=10,\n",
        "              sample_every=250,\n",
        "              save_every=250\n",
        "              )"
      ],
      "execution_count": null,
      "outputs": []
    },
    {
      "cell_type": "markdown",
      "metadata": {
        "id": "IXSuTNERaw6K",
        "colab_type": "text"
      },
      "source": [
        "After the model is trained, you can copy the checkpoint folder to your own Google Drive.\n",
        "\n",
        "If you want to download it to your personal computer, it's strongly recommended you copy it there first, then download from Google Drive. The checkpoint folder is copied as a `.rar` compressed file; you can download it and uncompress it locally."
      ]
    },
    {
      "cell_type": "code",
      "metadata": {
        "id": "VHdTL8NDbAh3",
        "colab_type": "code",
        "colab": {}
      },
      "source": [
        "# gpt2.copy_checkpoint_to_gdrive(run_name=run_name_var)"
      ],
      "execution_count": 57,
      "outputs": []
    },
    {
      "cell_type": "markdown",
      "metadata": {
        "id": "qQJgV_b4bmzd",
        "colab_type": "text"
      },
      "source": [
        "You're done! Feel free to go to the **Generate Text From The Trained Model** section to generate text based on your retrained model."
      ]
    },
    {
      "cell_type": "markdown",
      "metadata": {
        "id": "pel-uBULXO2L",
        "colab_type": "text"
      },
      "source": [
        "## Load a Trained Model Checkpoint\n",
        "\n",
        "Running the next cell will copy the `.rar` checkpoint file from your Google Drive into the Colaboratory VM."
      ]
    },
    {
      "cell_type": "code",
      "metadata": {
        "id": "DCcx5u7sbPTD",
        "colab_type": "code",
        "colab": {}
      },
      "source": [
        "gpt2.copy_checkpoint_from_gdrive(run_name=run_name_var)"
      ],
      "execution_count": 8,
      "outputs": []
    },
    {
      "cell_type": "markdown",
      "metadata": {
        "id": "RTa6zf3e_9gV",
        "colab_type": "text"
      },
      "source": [
        "The next cell will allow you to load the retrained model checkpoint + metadata necessary to generate text.\n",
        "\n",
        "**IMPORTANT NOTE:** If you want to rerun this cell, **restart the VM first** (Runtime -> Restart Runtime). You will need to rerun imports but not recopy files."
      ]
    },
    {
      "cell_type": "code",
      "metadata": {
        "id": "-fxL77nvAMAX",
        "colab_type": "code",
        "colab": {
          "base_uri": "https://localhost:8080/",
          "height": 69
        },
        "outputId": "619b2909-57d7-4296-cc3d-f6c55daa8c08"
      },
      "source": [
        "sess = gpt2.start_tf_sess()\n",
        "gpt2.load_gpt2(sess, run_name=run_name_var)\n",
        "\n",
        "'''\n",
        "Might get error ValueError: Variable model/wpe already exists\n",
        "In that case, restart runtime and rerun first 2 cells and the run_name_var definition cell\n",
        "'''"
      ],
      "execution_count": 10,
      "outputs": [
        {
          "output_type": "stream",
          "text": [
            "Loading checkpoint checkpoint/run_tripti_rajput/model-750\n",
            "INFO:tensorflow:Restoring parameters from checkpoint/run_tripti_rajput/model-750\n"
          ],
          "name": "stdout"
        },
        {
          "output_type": "execute_result",
          "data": {
            "application/vnd.google.colaboratory.intrinsic+json": {
              "type": "string"
            },
            "text/plain": [
              "'\\nMight get error ValueError: Variable model/wpe already exists\\nIn that case, restart runtime and rerun (first 2 cells + run_name_var)\\n'"
            ]
          },
          "metadata": {
            "tags": []
          },
          "execution_count": 10
        }
      ]
    },
    {
      "cell_type": "markdown",
      "metadata": {
        "id": "ClJwpF_ACONp",
        "colab_type": "text"
      },
      "source": [
        "## Generate Text From The Trained Model\n",
        "\n",
        "After you've trained the model or loaded a retrained model from checkpoint, you can now generate text. `generate` generates a single text from the loaded model."
      ]
    },
    {
      "cell_type": "code",
      "metadata": {
        "id": "4RNY6RBI9LmL",
        "colab_type": "code",
        "colab": {}
      },
      "source": [
        "gpt2.generate(sess, run_name=run_name_var)"
      ],
      "execution_count": null,
      "outputs": []
    },
    {
      "cell_type": "markdown",
      "metadata": {
        "id": "oF4-PqF0Fl7R",
        "colab_type": "text"
      },
      "source": [
        "If you're creating an API based on your model and need to pass the generated text elsewhere, you can do `text = gpt2.generate(sess, return_as_list=True)[0]`\n",
        "\n",
        "You can also pass in a `prefix` to the generate function to force the text to start with a given character sequence and generate text from there (good if you add an indicator when the text starts).\n",
        "\n",
        "You can also generate multiple texts at a time by specifing `nsamples`. Unique to GPT-2, you can pass a `batch_size` to generate multiple samples in parallel, giving a massive speedup (in Colaboratory, set a maximum of 20 for `batch_size`).\n",
        "\n",
        "Other optional-but-helpful parameters for `gpt2.generate` and friends:\n",
        "\n",
        "*  **`length`**: Number of tokens to generate (default 1023, the maximum)\n",
        "* **`temperature`**: The higher the temperature, the crazier the text (default 0.7, recommended to keep between 0.7 and 1.0)\n",
        "* **`top_k`**: Limits the generated guesses to the top *k* guesses (default 0 which disables the behavior; if the generated output is super crazy, you may want to set `top_k=40`)\n",
        "* **`top_p`**: Nucleus sampling: limits the generated guesses to a cumulative probability. (gets good results on a dataset with `top_p=0.9`)\n",
        "* **`truncate`**: Truncates the input text until a given sequence, excluding that sequence (e.g. if `truncate='<|endoftext|>'`, the returned text will include everything before the first `<|endoftext|>`). It may be useful to combine this with a smaller `length` if the input texts are short.\n",
        "*  **`include_prefix`**: If using `truncate` and `include_prefix=False`, the specified `prefix` will not be included in the returned text."
      ]
    },
    {
      "cell_type": "code",
      "metadata": {
        "id": "8DKMc0fiej4N",
        "colab_type": "code",
        "colab": {}
      },
      "source": [
        "gpt2.generate(sess,\n",
        "              run_name=run_name_var,\n",
        "              length=1000,\n",
        "              top_k=40,\n",
        "              top_p=0.9,\n",
        "              temperature=1.0,\n",
        "              nsamples=20,\n",
        "              batch_size=10\n",
        "              )"
      ],
      "execution_count": null,
      "outputs": []
    },
    {
      "cell_type": "markdown",
      "metadata": {
        "id": "zjjEN2Tafhl2",
        "colab_type": "text"
      },
      "source": [
        "For bulk generation, you can generate a large amount of text to a file and sort out the samples locally on your computer. The next cell will generate a generated text file with a unique timestamp.\n",
        "\n",
        "You can rerun the cells as many times as you want for even more generated texts!"
      ]
    },
    {
      "cell_type": "code",
      "metadata": {
        "id": "6oE9vHVFJTOH",
        "colab_type": "code",
        "colab": {}
      },
      "source": [
        "text = gpt2.generate(sess, run_name=run_name_var, return_as_list=True)[0]"
      ],
      "execution_count": 17,
      "outputs": []
    },
    {
      "cell_type": "code",
      "metadata": {
        "id": "Fa6p6arifSL0",
        "colab_type": "code",
        "colab": {}
      },
      "source": [
        "gen_file = 'gpt2_gentext_'+chat_name_formatted+'_{:%Y%m%d_%H%M%S}.txt'.format(datetime.utcnow())\n",
        "\n",
        "gpt2.generate_to_file(sess,\n",
        "                      destination_path=gen_file,\n",
        "                      run_name=run_name_var,\n",
        "                      length=600,\n",
        "                      temperature=0.9,\n",
        "                      nsamples=50,\n",
        "                      batch_size=10\n",
        "                      )\n",
        "\n",
        "# files.download(\"gen_file\") #Download to your computer\n",
        "import shutil\n",
        "gdrive_destn=\"/content/drive/My Drive/Colab Notebooks/GPT2_WA/Predicted chats\"\n",
        "shutil.copyfile(gen_file, gdrive_destn+\"/\"+gen_file)"
      ],
      "execution_count": 34,
      "outputs": []
    },
    {
      "cell_type": "markdown",
      "metadata": {
        "id": "QQAN3M6RT7Kj",
        "colab_type": "text"
      },
      "source": [
        "## Generate Text From The Pretrained Model\n",
        "\n",
        "If you want to generate text from the pretrained model, not a finetuned model, pass `model_name` to `gpt2.load_gpt2()` and `gpt2.generate()`.\n",
        "\n",
        "This is currently the only way to generate text from the 774M or 1558M models with this notebook."
      ]
    },
    {
      "cell_type": "code",
      "metadata": {
        "id": "hsUd_jHgUZnD",
        "colab_type": "code",
        "colab": {}
      },
      "source": [
        "model_name = \"774M\"\n",
        "\n",
        "gpt2.download_gpt2(model_name=model_name)"
      ],
      "execution_count": 1,
      "outputs": []
    },
    {
      "cell_type": "code",
      "metadata": {
        "id": "BAe4NpKNUj2C",
        "colab_type": "code",
        "colab": {
          "base_uri": "https://localhost:8080/",
          "height": 51
        },
        "outputId": "7a3a87ac-6347-43f4-fb2a-7f08c93f6429"
      },
      "source": [
        "sess = gpt2.start_tf_sess()\n",
        "\n",
        "gpt2.load_gpt2(sess, model_name=model_name)"
      ],
      "execution_count": 4,
      "outputs": [
        {
          "output_type": "stream",
          "text": [
            "Loading pretrained model models/774M/model.ckpt\n",
            "INFO:tensorflow:Restoring parameters from models/774M/model.ckpt\n"
          ],
          "name": "stdout"
        }
      ]
    },
    {
      "cell_type": "code",
      "metadata": {
        "id": "-xInIZKaU104",
        "colab_type": "code",
        "colab": {
          "base_uri": "https://localhost:8080/",
          "height": 615
        },
        "outputId": "3f42a636-5397-4ec1-cf63-2896d0610c86"
      },
      "source": [
        "gpt2.generate(sess,\n",
        "              model_name=model_name,\n",
        "              prefix=\"Studying engineering in India\",\n",
        "              length=100,\n",
        "              temperature=0.7,\n",
        "              top_p=0.9,\n",
        "              nsamples=5,\n",
        "              batch_size=5\n",
        "              )"
      ],
      "execution_count": 6,
      "outputs": [
        {
          "output_type": "stream",
          "text": [
            "Studying engineering in India, I had the privilege of working with the first ever Indian engineering team to win the World Cup in 2012. But I didn't know at the time that I would be studying engineering at Stanford. I started working at Stanford when I was in high school. I had a lot of fun and I learned a lot. I started studying engineering at Stanford because I liked the way it looked, the way it felt. And that was the first time I really got into the field.\n",
            "\n",
            "The first semester\n",
            "====================\n",
            "Studying engineering in India\n",
            "\n",
            "The average engineering education in India is a little more than one year long, with the first year being dedicated to basic engineering.\n",
            "\n",
            "Most engineering courses in India are taught in English, and you are expected to learn the language by the end of the first year.\n",
            "\n",
            "As for the second year, you are expected to learn the subject in your native language.\n",
            "\n",
            "You are also expected to complete a minimum of 100 credits.\n",
            "\n",
            "Some engineering courses in India are offered at the\n",
            "====================\n",
            "Studying engineering in India and abroad\n",
            "\n",
            "Learning, teaching and research at the Technological University of India, Hyderabad, and the National Institute of Technology, Kanpur\n",
            "\n",
            "Research and teaching at the Institute of Electrical and Electronics Engineers, Hyderabad, and the Institute of Information Technology and Management, Kanpur\n",
            "\n",
            "Education and training at the Technological University of India, Hyderabad\n",
            "\n",
            "Research and teaching at the Institute of Electronics and Computer Engineering, Hyderabad, and the Institute of Information Technology and Management, Kanpur\n",
            "====================\n",
            "Studying engineering in India, I saw many engineers who were busy with their studies and their jobs, but couldn't focus on their work. I had always wanted to work in India, and I saw so many of my friends who were working in the field, but couldn't do anything with it. I saw a lot of people who were working on the ground, but couldn't get any traction. So I started to think about what I wanted to do.\n",
            "\n",
            "\"I wanted to make something that was not just a\n",
            "====================\n",
            "Studying engineering in India, I had found a job as a software engineer in a company in Delhi. There were some other young people working there, too. They were all quite bright. They were all of Indian origin. They were all quite ambitious, too. So I joined them and helped them with their projects. I was there for about two years.\n",
            "\n",
            "There were some people who wanted to get involved in politics, but I was not interested in politics at all. I had a lot of friends who were political\n",
            "====================\n"
          ],
          "name": "stdout"
        }
      ]
    },
    {
      "cell_type": "markdown",
      "metadata": {
        "id": "ig-KVgkCDCKD",
        "colab_type": "text"
      },
      "source": [
        "# Etcetera\n",
        "\n",
        "If the notebook has errors (e.g. GPU Sync Fail), force-kill the Colaboratory virtual machine and restart it with the command below:"
      ]
    },
    {
      "cell_type": "markdown",
      "metadata": {
        "id": "VctE7gfhsfwS",
        "colab_type": "text"
      },
      "source": [
        "`ValueError: Variable model/wpe already exists, disallowed.`\n",
        "\n",
        "I would try, in this order:\n",
        "\n",
        "* to restart the Google Colab session,\n",
        "* to use a different run_name.\n",
        "\n",
        "`!kill -9 -1`"
      ]
    },
    {
      "cell_type": "markdown",
      "metadata": {
        "id": "Y6L4Y7XWjvQv",
        "colab_type": "text"
      },
      "source": [
        "# Credits\n",
        "Originally by [Max Woolf](http://minimaxir.com)\n",
        "For more about `gpt-2-simple`, you can visit [this GitHub repository](https://github.com/minimaxir/gpt-2-simple). You can also read his [blog post](https://minimaxir.com/2019/09/howto-gpt2/) for more information how to use this notebook!\n",
        "\n"
      ]
    }
  ]
}